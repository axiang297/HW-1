{
 "cells": [
  {
   "cell_type": "code",
   "execution_count": 113,
   "metadata": {},
   "outputs": [],
   "source": [
    "import math\n",
    "import numpy\n",
    "import matplotlib.pyplot as pyplot\n",
    "from scipy import integrate\n",
    "%matplotlib inline"
   ]
  },
  {
   "cell_type": "code",
   "execution_count": 114,
   "metadata": {},
   "outputs": [],
   "source": [
    "# Ser parameters\n",
    "ms = 50 # weight of rocker shell\n",
    "g = 9.81\n",
    "𝜌 = 1.091 # air density\n",
    "r = 0.5\n",
    "A = math.pi * r * r\n",
    "ve = 350 # exhaust speed\n",
    "cd = 0.21 # drag coefficient"
   ]
  },
  {
   "cell_type": "code",
   "execution_count": 115,
   "metadata": {},
   "outputs": [],
   "source": [
    "# Set initial condition\n",
    "mp0 = 150 # initial weight"
   ]
  },
  {
   "cell_type": "code",
   "execution_count": 116,
   "metadata": {},
   "outputs": [],
   "source": [
    "# Create the time grid.\n",
    "T = 4  # length of the time-interval\n",
    "dt = 0.05  # time-step size\n",
    "N = int(T / dt) + 1  # number of time steps\n",
    "t = numpy.linspace(0.0, T, num=N)  # time grid"
   ]
  },
  {
   "cell_type": "code",
   "execution_count": 145,
   "metadata": {},
   "outputs": [
    {
     "name": "stdout",
     "output_type": "stream",
     "text": [
      "[ 0.00000000e+00  3.14875000e-02  1.26387798e-01 ... -2.44087882e+03\n",
      " -2.44657505e+03 -2.45227148e+03]\n",
      "[   0.            1.26387702    2.53651956 ... -113.92261237 -113.92656214\n",
      " -113.93047832]\n",
      "0.047525164331772174\n"
     ]
    }
   ],
   "source": [
    "def mp(t):\n",
    "    if t < 4:\n",
    "        mpt = 20\n",
    "        total = 150 - mpt * t\n",
    "    else:\n",
    "        mpt = 0\n",
    "        total = 150 - 80 - mpt * t\n",
    "    return total\n",
    "def mpp(t):\n",
    "    if t < 4:\n",
    "        am= 20\n",
    "    else:\n",
    "        am=0\n",
    "    return am \n",
    "v0 = 0\n",
    "h0 = 0\n",
    "def rhs_phugoid(t, u, ms, g, 𝜌, A, ve, cd, mp, mpp):\n",
    "    h, v = u\n",
    "    rhs = numpy.array([v, -g + mp1(t) * ve / (ms + mp(t)) - 0.5 * 𝜌 * v * numpy.abs(v) * A * cd / (ms + mp(t))])\n",
    "    return rhs\n",
    "def rk2_step(t, u, f, dt, *args):\n",
    "    u_c = u + 0.5 * dt * f(t, u, *args)\n",
    "    \n",
    "    u_cc = u + dt * f(t + 0.5*dt, u_c, *args)\n",
    "    return u_cc\n",
    "T = 50\n",
    "dt = 0.05\n",
    "N = int(T / dt) + 1\n",
    "u_rk2 = numpy.empty((N,2))\n",
    "u_rk2[0] = numpy.array([h0,v0])\n",
    "t = []\n",
    "for n in range(N-1):\n",
    "    u_rk2[n + 1] = rk2_step(n*dt, u_rk2[n], rhs_phugoid, dt,ms, g, 𝜌, A, ve, cd, mp, mp1 )\n",
    "    t.append(n * dt)\n",
    "    \n",
    "\n",
    "t.append(T)\n",
    "t = numpy.array(t)\n",
    "\n",
    "h_rk2 = u_rk2[:, 0]\n",
    "v_rk2 = u_rk2[:, 1]\n",
    "print(h_rk2)\n",
    "print(v_rk2)\n",
    "print(v_rk2[275])\n"
   ]
  },
  {
   "cell_type": "code",
   "execution_count": 146,
   "metadata": {
    "scrolled": true
   },
   "outputs": [
    {
     "data": {
      "image/png": "[encoded data removed]",
      "text/plain": [
       "<Figure size 648x288 with 1 Axes>"
      ]
     },
     "metadata": {
      "needs_background": "light"
     },
     "output_type": "display_data"
    }
   ],
   "source": [
    "# Q1\n",
    "# Plot the numerical solution and the exact solution.\n",
    "pyplot.figure(figsize=(9.0, 4.0))  # set the size of the figure\n",
    "pyplot.title('Elevation of height and speed over the time')  # set the title\n",
    "pyplot.xlabel('Time [s]')  # set the x-axis label\n",
    "pyplot.ylabel('Height [m]')  # set the y-axis label\n",
    "pyplot.xlim(0, 30)  # set the x-axis limits\n",
    "pyplot.ylim(-100, 1000.0)  # set the y-axis limits\n",
    "pyplot.grid()  # set a background grid to improve readability\n",
    "pyplot.plot(t, h_rk2, label='Altitude',\n",
    "            color='C0', linestyle='-', linewidth=2)\n",
    "pyplot.plot(t, v_rk2, label='Velocity',\n",
    "            color='C1', linestyle='-', linewidth=2)\n",
    "pyplot.legend();  # set the legend"
   ]
  },
  {
   "cell_type": "code",
   "execution_count": 147,
   "metadata": {},
   "outputs": [],
   "source": [
    "# Q2\n",
    "tb = 15.2\n",
    "mt = 50 + 150 - 80\n",
    "print('mass',mt)"
   ]
  },
  {
   "cell_type": "code",
   "execution_count": 148,
   "metadata": {},
   "outputs": [
    {
     "name": "stdout",
     "output_type": "stream",
     "text": [
      "vmax 126.74103191459848\n",
      "t_vmax 4.0\n",
      "h_vmax 237.69277007020102\n"
     ]
    }
   ],
   "source": [
    "# Q3\n",
    "listv = v_rk2.tolist()\n",
    "listh = h_rk2.tolist()\n",
    "print('vmax',max(v_rk2))\n",
    "cc = listv.index(max(v_rk2))\n",
    "tt = cc * 0.05\n",
    "print('t_vmax',tt)\n",
    "print('h_vmax',listh[cc])"
   ]
  },
  {
   "cell_type": "code",
   "execution_count": 149,
   "metadata": {},
   "outputs": [
    {
     "name": "stdout",
     "output_type": "stream",
     "text": [
      "h_max 771.8390856154841\n",
      "t_hmax 13.75\n",
      "v_hmax 0.047525164331772174\n"
     ]
    }
   ],
   "source": [
    "# Q4\n",
    "print('h_max',max(h_rk2))\n",
    "dd = listh.index(max(h_rk2))\n",
    "tt = dd * 0.05\n",
    "print('t_hmax',tt)\n",
    "print('v_hmax',listv[dd])"
   ]
  },
  {
   "cell_type": "code",
   "execution_count": 142,
   "metadata": {},
   "outputs": [
    {
     "name": "stdout",
     "output_type": "stream",
     "text": [
      "h_imp 0\n",
      "t_imp 0.0\n",
      "v_imp 0.0\n"
     ]
    }
   ],
   "source": [
    "# Q5\n",
    "print('h_imp',0)\n",
    "dd = listh.index(0)\n",
    "tt = dd * 0.05\n",
    "print('t_imp',tt)\n",
    "print('v_imp',listv[dd])"
   ]
  },
  {
   "cell_type": "code",
   "execution_count": 153,
   "metadata": {},
   "outputs": [
    {
     "name": "stdout",
     "output_type": "stream",
     "text": [
      "551\n",
      "impact speed -94.83739230747979\n",
      "impact time 27.53658857398108\n"
     ]
    }
   ],
   "source": [
    "idx_negative_rk2 = numpy.where(h_rk2 < 0.0)[0]\n",
    "if len(idx_negative_rk2) == 0:\n",
    "    idx_ground_rk2 = N - 1\n",
    "    print('[RK2] Glider has not touched ground yet!')\n",
    "else:\n",
    "    idx_ground_rk2 = idx_negative_rk2[0]\n",
    "print(idx_ground_rk2)\n",
    "t1 = idx_ground_rk2\n",
    "t2 = t1 + 1\n",
    "h1 = listh[t1]\n",
    "h2 = listh[t2]\n",
    "v1 = listv[t1]\n",
    "v2 = listv[t2]\n",
    "t1 = t1 * 0.05\n",
    "t2 = t2 * 0.05\n",
    "v = (h1 - h2)/(t1-t2)\n",
    "print('impact speed',v)\n",
    "th = t1 - h1/v\n",
    "print ('impact time',th)"
   ]
  },
  {
   "cell_type": "code",
   "execution_count": null,
   "metadata": {},
   "outputs": [],
   "source": []
  }
 ],
 "metadata": {
  "kernelspec": {
   "display_name": "Python 3",
   "language": "python",
   "name": "python3"
  },
  "language_info": {
   "codemirror_mode": {
    "name": "ipython",
    "version": 3
   },
   "file_extension": ".py",
   "mimetype": "text/x-python",
   "name": "python",
   "nbconvert_exporter": "python",
   "pygments_lexer": "ipython3",
   "version": "3.8.5"
  }
 },
 "nbformat": 4,
 "nbformat_minor": 4
}
